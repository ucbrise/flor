{
 "cells": [
  {
   "cell_type": "markdown",
   "metadata": {},
   "source": [
    "# Is a good portion of an ML execution spent in C code?"
   ]
  },
  {
   "cell_type": "code",
   "execution_count": 1,
   "metadata": {},
   "outputs": [],
   "source": [
    "%run profiler_helper.py"
   ]
  },
  {
   "cell_type": "markdown",
   "metadata": {},
   "source": [
    "## Acquiring cProfile\n",
    "We acquire the binary output of [cProfile](https://docs.python.org/3.7/library/profile.html#module-cProfile) by running:\n",
    "\n",
    "`python -m cProfile -o output.cprof code_i_want_to_profile.py`"
   ]
  },
  {
   "cell_type": "code",
   "execution_count": 3,
   "metadata": {
    "scrolled": false
   },
   "outputs": [
    {
     "name": "stdout",
     "output_type": "stream",
     "text": [
      "Files already downloaded and verified\n",
      "Files already downloaded and verified\n",
      "[1,  2000] loss: 2.189\n",
      "[1,  4000] loss: 1.818\n",
      "[1,  6000] loss: 1.640\n",
      "[1,  8000] loss: 1.578\n",
      "[1, 10000] loss: 1.516\n",
      "[1, 12000] loss: 1.447\n",
      "[2,  2000] loss: 1.374\n",
      "[2,  4000] loss: 1.373\n",
      "[2,  6000] loss: 1.332\n",
      "[2,  8000] loss: 1.320\n",
      "[2, 10000] loss: 1.306\n",
      "[2, 12000] loss: 1.279\n",
      "Finished Training\n",
      "Accuracy of the network on the 10000 test images: 53 %\n"
     ]
    }
   ],
   "source": [
    "# !python -m cProfile -o cifar10/cifar10_cnn.cprof cifar10/cifar10_cnn.py"
   ]
  },
  {
   "cell_type": "code",
   "execution_count": 3,
   "metadata": {},
   "outputs": [],
   "source": [
    "# !python -m cProfile -o cifar10/cifar10_cnn_2.cprof cifar10/cifar10_cnn_2.py"
   ]
  },
  {
   "cell_type": "code",
   "execution_count": 6,
   "metadata": {
    "scrolled": true
   },
   "outputs": [
    {
     "name": "stdout",
     "output_type": "stream",
     "text": [
      "Downloading http://yann.lecun.com/exdb/mnist/train-images-idx3-ubyte.gz\n",
      "Downloading http://yann.lecun.com/exdb/mnist/train-labels-idx1-ubyte.gz\n",
      "Downloading http://yann.lecun.com/exdb/mnist/t10k-images-idx3-ubyte.gz\n",
      "Downloading http://yann.lecun.com/exdb/mnist/t10k-labels-idx1-ubyte.gz\n",
      "Processing...\n",
      "Done!\n",
      "[1,  2000] loss: 0.317\n",
      "[1,  4000] loss: 0.109\n",
      "[1,  6000] loss: 0.082\n",
      "[1,  8000] loss: 0.072\n",
      "[1, 10000] loss: 0.071\n",
      "[1, 12000] loss: 0.061\n",
      "[1, 14000] loss: 0.054\n",
      "[2,  2000] loss: 0.050\n",
      "[2,  4000] loss: 0.036\n",
      "[2,  6000] loss: 0.041\n",
      "[2,  8000] loss: 0.035\n",
      "[2, 10000] loss: 0.040\n",
      "[2, 12000] loss: 0.035\n",
      "[2, 14000] loss: 0.037\n",
      "Finished Training\n",
      "Accuracy of the network on the 10000 test images: 98 %\n"
     ]
    }
   ],
   "source": [
    "# !python -m cProfile -o mnist/mnist_cnn.cprof mnist/mnist_cnn.py"
   ]
  },
  {
   "cell_type": "code",
   "execution_count": 22,
   "metadata": {
    "scrolled": true
   },
   "outputs": [
    {
     "name": "stdout",
     "output_type": "stream",
     "text": [
      "Epoch [0/20], Step [600/600], d_loss: 0.1415, g_loss: 4.7808, D(x): 0.93, D(G(z)): 0.06\n",
      "Epoch [1/20], Step [600/600], d_loss: 0.2239, g_loss: 4.7034, D(x): 0.92, D(G(z)): 0.07\n",
      "Epoch [2/20], Step [600/600], d_loss: 1.2165, g_loss: 1.7609, D(x): 0.74, D(G(z)): 0.40\n",
      "Epoch [3/20], Step [600/600], d_loss: 0.5476, g_loss: 3.0661, D(x): 0.88, D(G(z)): 0.23\n",
      "Epoch [4/20], Step [600/600], d_loss: 0.1495, g_loss: 3.4262, D(x): 0.96, D(G(z)): 0.08\n",
      "Epoch [5/20], Step [600/600], d_loss: 0.1148, g_loss: 4.7976, D(x): 0.95, D(G(z)): 0.02\n",
      "Epoch [6/20], Step [600/600], d_loss: 0.2035, g_loss: 3.9171, D(x): 0.93, D(G(z)): 0.07\n",
      "Epoch [7/20], Step [600/600], d_loss: 0.1828, g_loss: 4.3329, D(x): 0.96, D(G(z)): 0.09\n",
      "Epoch [8/20], Step [600/600], d_loss: 0.1564, g_loss: 4.6253, D(x): 0.94, D(G(z)): 0.01\n",
      "Epoch [9/20], Step [600/600], d_loss: 0.2558, g_loss: 6.1916, D(x): 0.94, D(G(z)): 0.06\n",
      "Epoch [10/20], Step [600/600], d_loss: 0.1214, g_loss: 4.1723, D(x): 0.98, D(G(z)): 0.08\n",
      "Epoch [11/20], Step [600/600], d_loss: 0.1873, g_loss: 3.8168, D(x): 0.96, D(G(z)): 0.09\n",
      "Epoch [12/20], Step [600/600], d_loss: 0.2699, g_loss: 3.9878, D(x): 0.93, D(G(z)): 0.04\n",
      "Epoch [13/20], Step [600/600], d_loss: 0.2253, g_loss: 5.4789, D(x): 0.93, D(G(z)): 0.02\n",
      "Epoch [14/20], Step [600/600], d_loss: 0.3116, g_loss: 4.9259, D(x): 0.89, D(G(z)): 0.03\n",
      "Epoch [15/20], Step [600/600], d_loss: 0.2026, g_loss: 3.1733, D(x): 0.92, D(G(z)): 0.06\n",
      "Epoch [16/20], Step [600/600], d_loss: 0.4240, g_loss: 2.8708, D(x): 0.89, D(G(z)): 0.08\n",
      "Epoch [17/20], Step [600/600], d_loss: 0.4262, g_loss: 7.7256, D(x): 0.89, D(G(z)): 0.02\n",
      "Epoch [18/20], Step [600/600], d_loss: 0.2754, g_loss: 4.3389, D(x): 0.90, D(G(z)): 0.04\n",
      "Epoch [19/20], Step [600/600], d_loss: 0.2701, g_loss: 6.5284, D(x): 0.92, D(G(z)): 0.04\n"
     ]
    }
   ],
   "source": [
    "!python -m cProfile -o GANs/mnist_gan.cprof GANs/mnist_gan.py"
   ]
  },
  {
   "cell_type": "markdown",
   "metadata": {},
   "source": [
    "## Load the cProfile binary into a pandas DataFrame"
   ]
  },
  {
   "cell_type": "code",
   "execution_count": 4,
   "metadata": {},
   "outputs": [],
   "source": [
    "df = to_df('cifar10/cifar10_cnn.cprof')\n",
    "# df"
   ]
  },
  {
   "cell_type": "markdown",
   "metadata": {},
   "source": [
    "## Preprocess plf column to extract the relevant modules from text\n",
    "\n",
    "Do you see text like `{built-in method torch._C._get_tracing_state}`? I can't use that. I need to transform it so I extract the module name and function name from such strings. The template class below is like a cookie cutter. You press it down on a string and the remainder is the module name and function name (two-tuple)."
   ]
  },
  {
   "cell_type": "code",
   "execution_count": 5,
   "metadata": {},
   "outputs": [
    {
     "name": "stdout",
     "output_type": "stream",
     "text": [
      "cifar10/cifar10_cnn.py:31(__init__)\n",
      "cifar10/cifar10_cnn.py:40(forward)\n",
      "cifar10/cifar10_cnn.py:1(<module>)\n",
      "cifar10/cifar10_cnn.py:29(Net)\n",
      "Validation failed.\n"
     ]
    }
   ],
   "source": [
    "toby.validate(to_df('cifar10/cifar10_cnn.cprof'))"
   ]
  },
  {
   "cell_type": "code",
   "execution_count": 8,
   "metadata": {},
   "outputs": [
    {
     "name": "stdout",
     "output_type": "stream",
     "text": [
      "mnist/mnist_cnn.py:10(__init__)\n",
      "mnist/mnist_cnn.py:17(forward)\n",
      "mnist/mnist_cnn.py:9(Net)\n",
      "mnist/mnist_cnn.py:1(<module>)\n",
      "Validation failed.\n"
     ]
    }
   ],
   "source": [
    "toby.validate(to_df('mnist/mnist_cnn.cprof'))"
   ]
  },
  {
   "cell_type": "code",
   "execution_count": 24,
   "metadata": {},
   "outputs": [
    {
     "name": "stdout",
     "output_type": "stream",
     "text": [
      "GANs/mnist_gan.py:68(denorm)\n",
      "GANs/mnist_gan.py:73(reset_grad)\n",
      "GANs/mnist_gan.py:1(<module>)\n",
      "Validation failed.\n"
     ]
    }
   ],
   "source": [
    "toby.validate(to_df('GANs/mnist_gan.cprof'))"
   ]
  },
  {
   "cell_type": "markdown",
   "metadata": {},
   "source": [
    "## We see calls to C Extensions below"
   ]
  },
  {
   "cell_type": "code",
   "execution_count": 11,
   "metadata": {},
   "outputs": [],
   "source": [
    "c_df = get_c_df(df)\n",
    "# c_df"
   ]
  },
  {
   "cell_type": "markdown",
   "metadata": {},
   "source": [
    "## Approximately what fraction of time was spent in C code?"
   ]
  },
  {
   "cell_type": "code",
   "execution_count": 4,
   "metadata": {},
   "outputs": [
    {
     "data": {
      "text/plain": [
       "'48.989%'"
      ]
     },
     "execution_count": 4,
     "metadata": {},
     "output_type": "execute_result"
    }
   ],
   "source": [
    "get_c_fraction('cifar10/cifar10_cnn.cprof')"
   ]
  },
  {
   "cell_type": "code",
   "execution_count": 7,
   "metadata": {},
   "outputs": [
    {
     "data": {
      "text/plain": [
       "'58.406%'"
      ]
     },
     "execution_count": 7,
     "metadata": {},
     "output_type": "execute_result"
    }
   ],
   "source": [
    "get_c_fraction('mnist/mnist_cnn.cprof')"
   ]
  },
  {
   "cell_type": "code",
   "execution_count": 23,
   "metadata": {},
   "outputs": [
    {
     "data": {
      "text/plain": [
       "'55.528%'"
      ]
     },
     "execution_count": 23,
     "metadata": {},
     "output_type": "execute_result"
    }
   ],
   "source": [
    "get_c_fraction('GANs/mnist_gan.cprof')"
   ]
  },
  {
   "cell_type": "code",
   "execution_count": null,
   "metadata": {},
   "outputs": [],
   "source": []
  }
 ],
 "metadata": {
  "kernelspec": {
   "display_name": "Python 3",
   "language": "python",
   "name": "python3"
  },
  "language_info": {
   "codemirror_mode": {
    "name": "ipython",
    "version": 3
   },
   "file_extension": ".py",
   "mimetype": "text/x-python",
   "name": "python",
   "nbconvert_exporter": "python",
   "pygments_lexer": "ipython3",
   "version": "3.6.5"
  }
 },
 "nbformat": 4,
 "nbformat_minor": 2
}
