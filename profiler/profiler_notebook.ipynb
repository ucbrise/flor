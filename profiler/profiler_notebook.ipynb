{
 "cells": [
  {
   "cell_type": "markdown",
   "metadata": {},
   "source": [
    "# Is a good portion of an ML execution spent in C code?"
   ]
  },
  {
   "cell_type": "code",
   "execution_count": 1,
   "metadata": {},
   "outputs": [],
   "source": [
    "%run profiler_helper.py"
   ]
  },
  {
   "cell_type": "markdown",
   "metadata": {},
   "source": [
    "## Acquiring cProfile\n",
    "We acquire the binary output of [cProfile](https://docs.python.org/3.7/library/profile.html#module-cProfile) by running:\n",
    "\n",
    "`python -m cProfile -o output.cprof code_i_want_to_profile.py`"
   ]
  },
  {
   "cell_type": "code",
   "execution_count": 3,
   "metadata": {
    "scrolled": false
   },
   "outputs": [
    {
     "name": "stdout",
     "output_type": "stream",
     "text": [
      "Files already downloaded and verified\n",
      "Files already downloaded and verified\n",
      "[1,  2000] loss: 2.189\n",
      "[1,  4000] loss: 1.818\n",
      "[1,  6000] loss: 1.640\n",
      "[1,  8000] loss: 1.578\n",
      "[1, 10000] loss: 1.516\n",
      "[1, 12000] loss: 1.447\n",
      "[2,  2000] loss: 1.374\n",
      "[2,  4000] loss: 1.373\n",
      "[2,  6000] loss: 1.332\n",
      "[2,  8000] loss: 1.320\n",
      "[2, 10000] loss: 1.306\n",
      "[2, 12000] loss: 1.279\n",
      "Finished Training\n",
      "Accuracy of the network on the 10000 test images: 53 %\n"
     ]
    }
   ],
   "source": [
    "# !python -m cProfile -o cifar10/cifar10_cnn.cprof cifar10/cifar10_cnn.py"
   ]
  },
  {
   "cell_type": "code",
   "execution_count": 3,
   "metadata": {},
   "outputs": [],
   "source": [
    "# !python -m cProfile -o cifar10/cifar10_cnn_2.cprof cifar10/cifar10_cnn_2.py"
   ]
  },
  {
   "cell_type": "code",
   "execution_count": 6,
   "metadata": {
    "scrolled": true
   },
   "outputs": [
    {
     "name": "stdout",
     "output_type": "stream",
     "text": [
      "Downloading http://yann.lecun.com/exdb/mnist/train-images-idx3-ubyte.gz\n",
      "Downloading http://yann.lecun.com/exdb/mnist/train-labels-idx1-ubyte.gz\n",
      "Downloading http://yann.lecun.com/exdb/mnist/t10k-images-idx3-ubyte.gz\n",
      "Downloading http://yann.lecun.com/exdb/mnist/t10k-labels-idx1-ubyte.gz\n",
      "Processing...\n",
      "Done!\n",
      "[1,  2000] loss: 0.317\n",
      "[1,  4000] loss: 0.109\n",
      "[1,  6000] loss: 0.082\n",
      "[1,  8000] loss: 0.072\n",
      "[1, 10000] loss: 0.071\n",
      "[1, 12000] loss: 0.061\n",
      "[1, 14000] loss: 0.054\n",
      "[2,  2000] loss: 0.050\n",
      "[2,  4000] loss: 0.036\n",
      "[2,  6000] loss: 0.041\n",
      "[2,  8000] loss: 0.035\n",
      "[2, 10000] loss: 0.040\n",
      "[2, 12000] loss: 0.035\n",
      "[2, 14000] loss: 0.037\n",
      "Finished Training\n",
      "Accuracy of the network on the 10000 test images: 98 %\n"
     ]
    }
   ],
   "source": [
    "# !python -m cProfile -o mnist/mnist_cnn.cprof mnist/mnist_cnn.py"
   ]
  },
  {
   "cell_type": "markdown",
   "metadata": {},
   "source": [
    "## Load the cProfile binary into a pandas DataFrame"
   ]
  },
  {
   "cell_type": "code",
   "execution_count": 4,
   "metadata": {},
   "outputs": [],
   "source": [
    "df = to_df('cifar10/cifar10_cnn.cprof')\n",
    "# df"
   ]
  },
  {
   "cell_type": "markdown",
   "metadata": {},
   "source": [
    "## Preprocess plf column to extract the relevant modules from text\n",
    "\n",
    "Do you see text like `{built-in method torch._C._get_tracing_state}`? I can't use that. I need to transform it so I extract the module name and function name from such strings. The template class below is like a cookie cutter. You press it down on a string and the remainder is the module name and function name (two-tuple)."
   ]
  },
  {
   "cell_type": "code",
   "execution_count": 5,
   "metadata": {},
   "outputs": [
    {
     "name": "stdout",
     "output_type": "stream",
     "text": [
      "cifar10/cifar10_cnn.py:31(__init__)\n",
      "cifar10/cifar10_cnn.py:40(forward)\n",
      "cifar10/cifar10_cnn.py:1(<module>)\n",
      "cifar10/cifar10_cnn.py:29(Net)\n",
      "Validation failed.\n"
     ]
    }
   ],
   "source": [
    "toby.validate(df)"
   ]
  },
  {
   "cell_type": "code",
   "execution_count": 8,
   "metadata": {},
   "outputs": [
    {
     "name": "stdout",
     "output_type": "stream",
     "text": [
      "mnist/mnist_cnn.py:10(__init__)\n",
      "mnist/mnist_cnn.py:17(forward)\n",
      "mnist/mnist_cnn.py:9(Net)\n",
      "mnist/mnist_cnn.py:1(<module>)\n",
      "Validation failed.\n"
     ]
    }
   ],
   "source": [
    "toby.validate(to_df('mnist/mnist_cnn.cprof'))"
   ]
  },
  {
   "cell_type": "markdown",
   "metadata": {},
   "source": [
    "## We see calls to C Extensions below"
   ]
  },
  {
   "cell_type": "code",
   "execution_count": 11,
   "metadata": {},
   "outputs": [],
   "source": [
    "c_df = get_c_df(df)\n",
    "# c_df"
   ]
  },
  {
   "cell_type": "markdown",
   "metadata": {},
   "source": [
    "## Approximately what fraction of time was spent in C code?"
   ]
  },
  {
   "cell_type": "code",
   "execution_count": 4,
   "metadata": {},
   "outputs": [
    {
     "data": {
      "text/plain": [
       "'48.989%'"
      ]
     },
     "execution_count": 4,
     "metadata": {},
     "output_type": "execute_result"
    }
   ],
   "source": [
    "get_c_fraction('cifar10/cifar10_cnn.cprof')"
   ]
  },
  {
   "cell_type": "code",
   "execution_count": 7,
   "metadata": {},
   "outputs": [
    {
     "data": {
      "text/plain": [
       "'58.406%'"
      ]
     },
     "execution_count": 7,
     "metadata": {},
     "output_type": "execute_result"
    }
   ],
   "source": [
    "get_c_fraction('mnist/mnist_cnn.cprof')"
   ]
  },
  {
   "cell_type": "code",
   "execution_count": null,
   "metadata": {},
   "outputs": [],
   "source": []
  }
 ],
 "metadata": {
  "kernelspec": {
   "display_name": "Python 3",
   "language": "python",
   "name": "python3"
  },
  "language_info": {
   "codemirror_mode": {
    "name": "ipython",
    "version": 3
   },
   "file_extension": ".py",
   "mimetype": "text/x-python",
   "name": "python",
   "nbconvert_exporter": "python",
   "pygments_lexer": "ipython3",
   "version": "3.6.5"
  }
 },
 "nbformat": 4,
 "nbformat_minor": 2
}
