{
 "cells": [
  {
   "cell_type": "code",
   "execution_count": 1,
   "metadata": {},
   "outputs": [],
   "source": [
    "# Titanic dataset from https://www.kaggle.com/c/titanic\n",
    "import time\n",
    "import numpy as np\n",
    "import pandas as pd\n",
    "from sklearn import preprocessing\n",
    "from sklearn.linear_model import LogisticRegression\n",
    "from sklearn.model_selection import train_test_split, cross_val_score\n",
    "import re\n",
    "\n",
    "start_time = time.time()\n",
    "\n",
    "df_train = pd.read_csv('../data/titanic/train.csv')\n",
    "df_test = pd.read_csv('../data/titanic/test.csv')"
   ]
  },
  {
   "cell_type": "code",
   "execution_count": 2,
   "metadata": {},
   "outputs": [
    {
     "name": "stdout",
     "output_type": "stream",
     "text": [
      "% of missing \"Age\" records: 19.865319865319865\n",
      "% of missing \"Cabin\" records: 77.10437710437711\n",
      "% of missing \"Embarked\" records: 0.22446689113355783\n"
     ]
    }
   ],
   "source": [
    "# Adapted from https://www.kaggle.com/mnassrib/titanic-logistic-regression-with-python/notebook\n",
    "for c in list(df_train):\n",
    "    percent_missing = (df_train[c].isnull().sum() / df_train.shape[0]) * 100\n",
    "    if percent_missing:\n",
    "        print(f'% of missing \"{c}\" records: {percent_missing}')"
   ]
  },
  {
   "cell_type": "code",
   "execution_count": 3,
   "metadata": {},
   "outputs": [],
   "source": [
    "df_list = [df_train, df_test]\n",
    "for (i, df) in enumerate(df_list):\n",
    "    df['Age'].fillna(df['Age'].median(skipna=True), inplace=True)\n",
    "    df['Fare'].fillna(df['Fare'].median(skipna=True), inplace=True)\n",
    "    df['Embarked'].fillna(df['Embarked'].value_counts().idxmax(), inplace=True)\n",
    "    df['Cabin'].fillna(df['Cabin'].value_counts().idxmax(), inplace=True)\n",
    "    df.Cabin = df.Cabin.map(lambda x: re.compile('[a-zA-Z]').search(x).group())\n",
    "    df_list[i] = pd.get_dummies(df, columns=['Pclass', 'Embarked', 'Sex', 'Cabin'])    \n",
    "    assert sum(df.isnull().sum() == 0)\n",
    "\n",
    "df_train, df_test = df_list\n",
    "\n",
    "for df in df_list:\n",
    "    for col in ['PassengerId', 'Name', 'Ticket', 'Sex_female']:\n",
    "        df.drop(col, axis=1, inplace=True)"
   ]
  },
  {
   "cell_type": "code",
   "execution_count": 4,
   "metadata": {},
   "outputs": [
    {
     "name": "stdout",
     "output_type": "stream",
     "text": [
      "Selected features: ['Pclass_1', 'Pclass_2', 'Pclass_3', 'Embarked_C', 'Embarked_Q', 'Sex_male', 'Cabin_D', 'Cabin_E', 'Cabin_F', 'Cabin_T']\n"
     ]
    }
   ],
   "source": [
    "from sklearn.feature_selection import RFE\n",
    "\n",
    "cols = list(df_train)\n",
    "cols.remove('Survived')\n",
    "\n",
    "X = df_train[cols]\n",
    "y = df_train['Survived']\n",
    "\n",
    "clf = LogisticRegression(solver='liblinear')\n",
    "\n",
    "# Create RFE model and select 10 features\n",
    "rfe = RFE(clf, 10)\n",
    "rfe = rfe.fit(X, y)\n",
    "\n",
    "# Summarize the selection of the features\n",
    "print('Selected features: {}'.format(list(X.columns[rfe.support_])))"
   ]
  },
  {
   "cell_type": "code",
   "execution_count": 5,
   "metadata": {},
   "outputs": [
    {
     "name": "stdout",
     "output_type": "stream",
     "text": [
      "0.8156424581005587\n"
     ]
    }
   ],
   "source": [
    "X_train, X_test, y_train, y_test = train_test_split(X, y, test_size=0.2, random_state=15)\n",
    "clf.fit(X_train, y_train)\n",
    "test_acc = clf.score(X_test, y_test)\n",
    "print('test accuracy:', test_acc)"
   ]
  },
  {
   "cell_type": "code",
   "execution_count": 6,
   "metadata": {},
   "outputs": [
    {
     "name": "stdout",
     "output_type": "stream",
     "text": [
      "--- 0.09717798233032227 seconds ---\n"
     ]
    }
   ],
   "source": [
    "print(\"--- %s seconds ---\" % (time.time() - start_time))"
   ]
  }
 ],
 "metadata": {
  "kernelspec": {
   "display_name": "Python 3",
   "language": "python",
   "name": "python3"
  },
  "language_info": {
   "codemirror_mode": {
    "name": "ipython",
    "version": 3
   },
   "file_extension": ".py",
   "mimetype": "text/x-python",
   "name": "python",
   "nbconvert_exporter": "python",
   "pygments_lexer": "ipython3",
   "version": "3.7.2"
  }
 },
 "nbformat": 4,
 "nbformat_minor": 2
}
